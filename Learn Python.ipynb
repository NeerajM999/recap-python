{
 "cells": [
  {
   "cell_type": "markdown",
   "metadata": {},
   "source": []
  },
  {
   "cell_type": "code",
   "execution_count": 2,
   "metadata": {},
   "outputs": [],
   "source": [
    "# Create Random Array\n",
    "from random import randint\n",
    "\n",
    "def create_array(size=10, max_val=100):\n",
    "    return [ randint(0, max_val) for _ in range(0, size) ]"
   ]
  },
  {
   "cell_type": "markdown",
   "metadata": {},
   "source": [
    "# bubble sort\n",
    "space: O(1) , time: O(n^2)"
   ]
  },
  {
   "cell_type": "code",
   "execution_count": 3,
   "metadata": {},
   "outputs": [],
   "source": [
    "def bubble_sort(a):\n",
    "    issorted = False\n",
    "    arr_size = len(a) - 1\n",
    "    while not issorted:\n",
    "        issorted = True\n",
    "        for i in range(0, arr_size):\n",
    "            if a[i] > a[i + 1]:\n",
    "                # swap\n",
    "                a[i], a[i+1] = a[i+1], a[i]\n",
    "                issorted = False\n",
    "        arr_size -= 1 # last element is sorted in first pass, 2nd last in 2nd pass and so on.. so no need to sort again\n",
    "    return a"
   ]
  },
  {
   "cell_type": "code",
   "execution_count": 4,
   "metadata": {},
   "outputs": [
    {
     "name": "stdout",
     "output_type": "stream",
     "text": [
      "before:  [64, 21, 1, 9, 88, 97, 66, 95, 66, 34]\n",
      "after:  [1, 9, 21, 34, 64, 66, 66, 88, 95, 97]\n"
     ]
    }
   ],
   "source": [
    "# invoke bubble sort\n",
    "a = create_array()\n",
    "print(\"before: \", a)\n",
    "print(\"after: \", bubble_sort(a))"
   ]
  },
  {
   "cell_type": "code",
   "execution_count": 13,
   "metadata": {},
   "outputs": [
    {
     "name": "stdout",
     "output_type": "stream",
     "text": [
      "Longest Substr =  bcdad\n",
      "Size =  5\n",
      "no more substrings can be longer than this one\n",
      "Longest Substr =  abcdef\n",
      "Size =  6\n"
     ]
    }
   ],
   "source": [
    "# find longest substring in a string\n",
    "def get_longest_substring(string):\n",
    "    max_len = 0\n",
    "    substr = \"\"\n",
    "    strLen = len(string)\n",
    "    for i, c in enumerate(string):\n",
    "        #print(\"%d - searching for = %c\"%(i, c))\n",
    "        idx = string.find(c, i+1, strLen)\n",
    "        sub = string[i:idx] if idx > 0 else string[i:]\n",
    "        sz = len(sub)\n",
    "        if sz > max_len:\n",
    "            max_len = sz\n",
    "            substr = sub\n",
    "            if sz == strLen - i:\n",
    "                print('no more substrings can be longer than this one')\n",
    "                break\n",
    "    print(\"Longest Substr = \",substr)\n",
    "    print(\"Size = \", len(substr))\n",
    "        \n",
    "get_longest_substring(\"abcdadb\")\n",
    "get_longest_substring(\"abcabcdef\")"
   ]
  },
  {
   "cell_type": "code",
   "execution_count": 25,
   "metadata": {},
   "outputs": [
    {
     "name": "stdout",
     "output_type": "stream",
     "text": [
      "-321\n"
     ]
    }
   ],
   "source": [
    "# reverse an integer\n",
    "# 123 -> 321, -123 -> -321, 120 -> 21\n",
    "\n",
    "def rev_int(num):\n",
    "    first = \"\"\n",
    "    s = \"\"\n",
    "    if num >= -2**31 and num <= (2**31) - 1:\n",
    "        pass\n",
    "    if num % 10 == 0:\n",
    "        num = num//10\n",
    "    \n",
    "    if num < 0:\n",
    "        first = \"-\"\n",
    "        s = str(num)[1:]\n",
    "    else:\n",
    "        s = str(num)\n",
    "        \n",
    "    print(first + s[::-1])\n",
    "    \n",
    "rev_int(-1230)"
   ]
  },
  {
   "cell_type": "code",
   "execution_count": 26,
   "metadata": {},
   "outputs": [
    {
     "name": "stdout",
     "output_type": "stream",
     "text": [
      "(20, 10)\n"
     ]
    }
   ],
   "source": [
    "# swap 2 nos. without using 3rd variable\n",
    "def swap(a,b):\n",
    "    # using XOR technique\n",
    "    a = a^b\n",
    "    b = a^b\n",
    "    a = a^b\n",
    "    \n",
    "    return (a,b)\n",
    "\n",
    "print(swap(10,20))\n",
    "    "
   ]
  },
  {
   "cell_type": "code",
   "execution_count": 27,
   "metadata": {},
   "outputs": [
    {
     "name": "stdout",
     "output_type": "stream",
     "text": [
      "(20, 10)\n"
     ]
    }
   ],
   "source": [
    "def swap(a,b):\n",
    "    a = a + b\n",
    "    b = a - b\n",
    "    a = a - b\n",
    "    return (a,b)\n",
    "\n",
    "print(swap(10,20))"
   ]
  },
  {
   "cell_type": "code",
   "execution_count": 35,
   "metadata": {},
   "outputs": [
    {
     "name": "stdout",
     "output_type": "stream",
     "text": [
      "False\n"
     ]
    }
   ],
   "source": [
    "# valid parentheses in a string\n",
    "def isValidParentheses(string):\n",
    "    adict = {\n",
    "        \"}\": \"{\",\n",
    "        \")\": \"(\",\n",
    "        \"]\": \"[\"\n",
    "    }\n",
    "    stack = []\n",
    "    \n",
    "    for c in string:\n",
    "        if c in adict.keys(): # found a closing bracket\n",
    "            top = stack.pop() if stack else '#'\n",
    "            if adict[c] != top: # not matching\n",
    "                return False\n",
    "        else:\n",
    "            # append only bracklets not other chars\n",
    "            if c in adict.values():\n",
    "                stack.append(c)\n",
    "    # if stack is empty, then it's valid scenario\n",
    "    return not stack\n",
    "\n",
    "print(isValidParentheses(\"ab(asw(e{}{[]})\"))"
   ]
  },
  {
   "cell_type": "code",
   "execution_count": 39,
   "metadata": {},
   "outputs": [
    {
     "name": "stdout",
     "output_type": "stream",
     "text": [
      "['a', 'e', 'a', 'A']\n"
     ]
    },
    {
     "data": {
      "text/plain": [
       "4"
      ]
     },
     "execution_count": 39,
     "metadata": {},
     "output_type": "execute_result"
    }
   ],
   "source": [
    "# count vowels\n",
    "import re\n",
    "def count_vowels(string):\n",
    "    pattern = re.compile(r'[aeiouAEIOU]')\n",
    "    results = pattern.findall(string,0, len(string))\n",
    "    print(results)\n",
    "    \n",
    "    return len(results)\n",
    "    \n",
    "count_vowels(\"aweabpA\")\n",
    "    "
   ]
  },
  {
   "cell_type": "code",
   "execution_count": 42,
   "metadata": {},
   "outputs": [
    {
     "name": "stdout",
     "output_type": "stream",
     "text": [
      "['w', 'd', '.', 'w', '&', 'w', '3', '3']\n",
      "['w', 'd', 'w', 'w']\n"
     ]
    }
   ],
   "source": [
    "# count consonents\n",
    "import re\n",
    "def count_consonents(string):\n",
    "    pattern = re.compile(r'[^aeiouAEIOU]')\n",
    "    result = pattern.findall(string, 0, len(string))\n",
    "    print(result)\n",
    "    \n",
    "    # remove non alphabetical characters\n",
    "    result = re.compile(r'[a-zA-Z]').findall(\"\".join(result), 0, len(result))\n",
    "    print(result)\n",
    "    \n",
    "count_consonents(\"awed.w&w33ei\")"
   ]
  },
  {
   "cell_type": "code",
   "execution_count": 52,
   "metadata": {},
   "outputs": [
    {
     "name": "stdout",
     "output_type": "stream",
     "text": [
      "False\n"
     ]
    }
   ],
   "source": [
    "# check if string or integer is a palindrome (same from left to right and vice versa)\n",
    "\n",
    "def isPalindrome(string):\n",
    "    string = str(string)\n",
    "    if string == string[::-1]:\n",
    "        return True\n",
    "    else:\n",
    "        return False\n",
    "\n",
    "print(isPalindrome(-123))"
   ]
  },
  {
   "cell_type": "code",
   "execution_count": 57,
   "metadata": {},
   "outputs": [
    {
     "name": "stdout",
     "output_type": "stream",
     "text": [
      "True\n"
     ]
    }
   ],
   "source": [
    "def is_palindrome2(num):\n",
    "\n",
    "        if (num < 0 ) or (num % 10 == 0 and num != 0):\n",
    "            return False\n",
    "\n",
    "        rev = 0\n",
    "        while num > rev:\n",
    "            rev = rev * 10 + num % 10\n",
    "            num = num/10\n",
    "\n",
    "        return num == rev or num == rev / 10\n",
    "\n",
    "print(is_palindrome2(121))"
   ]
  },
  {
   "cell_type": "code",
   "execution_count": 62,
   "metadata": {},
   "outputs": [
    {
     "name": "stdout",
     "output_type": "stream",
     "text": [
      "5-2-3-5-4-\n",
      "3-2-5-5-4-\n",
      "3-5-2-4-5-\n"
     ]
    }
   ],
   "source": [
    "# binary tree\n",
    "class Node(object):\n",
    "    def __init__(self, data):\n",
    "        self.data = data\n",
    "        self.left = None\n",
    "        self.right = None\n",
    "        \n",
    "class BinaryTree(object):\n",
    "    def __init__(self, root_val):\n",
    "        self.root = Node(root_val)\n",
    "        \n",
    "    def preorder_traversal(self, start, traversal):\n",
    "        if start:\n",
    "            traversal += str(start.data) + \"-\"\n",
    "            traversal = self.preorder_traversal(start.left, traversal)\n",
    "            traversal = self.preorder_traversal(start.right, traversal)\n",
    "            \n",
    "        return traversal\n",
    "    \n",
    "    def inorder_traversal(self, start, traversal):\n",
    "        if start:\n",
    "            traversal = self.inorder_traversal(start.left, traversal)\n",
    "            traversal += str(start.data) + \"-\"\n",
    "            traversal = self.inorder_traversal(start.right, traversal)\n",
    "            \n",
    "        return traversal\n",
    "    \n",
    "    def postorder_traversal(self, start, traversal):\n",
    "        if start:\n",
    "            traversal = self.postorder_traversal(start.left, traversal)\n",
    "            traversal = self.postorder_traversal(start.right, traversal)\n",
    "            traversal += str(start.data) + \"-\"\n",
    "            \n",
    "        return traversal\n",
    "    \n",
    "if __name__ == \"__main__\":\n",
    "    B = BinaryTree(5)\n",
    "    B.root.left = Node(2)\n",
    "    B.root.right = Node(4)\n",
    "    B.root.left.left = Node(3)\n",
    "    B.root.left.right = Node(5)\n",
    "    \n",
    "    print(B.preorder_traversal(B.root, \"\"))\n",
    "    print(B.inorder_traversal(B.root, \"\"))\n",
    "    print(B.postorder_traversal(B.root, \"\"))"
   ]
  },
  {
   "cell_type": "code",
   "execution_count": 103,
   "metadata": {},
   "outputs": [
    {
     "name": "stdout",
     "output_type": "stream",
     "text": [
      "Duplicate Node\n",
      "Duplicate Node\n",
      "Duplicate Node\n",
      "Duplicate Node\n",
      "Duplicate Node\n",
      "Duplicate Node\n",
      "Duplicate Node\n",
      "Duplicate Node\n",
      "1-3-4-6-7-9-10-11-13-15-16-20-\n",
      "True\n",
      "height:  5\n",
      "Search  True\n",
      "[16, 7, 9, 13]\n",
      "[16, 7, 6, 1, 4, 3]\n",
      "7\n"
     ]
    }
   ],
   "source": [
    "# binary search tree\n",
    "class Node():\n",
    "    def __init__(self, data):\n",
    "        self.data = data\n",
    "        self.left = None\n",
    "        self.right = None\n",
    "        self.parent = None\n",
    "\n",
    "class BinarySearchTree():\n",
    "    def __init__(self):\n",
    "        self.root = None\n",
    "        \n",
    "    def insert(self, value):\n",
    "        if self.root is None:\n",
    "            self.root = Node(value)\n",
    "        else:\n",
    "            self._insert(self.root, value)\n",
    "            \n",
    "    def _insert(self, current_node, value):\n",
    "        if current_node.data > value:\n",
    "            # go towards left sub tree\n",
    "            if current_node.left is None:\n",
    "                current_node.left = Node(value)\n",
    "                current_node.left.parent = current_node\n",
    "            else:\n",
    "                # traverse\n",
    "                self._insert(current_node.left, value)\n",
    "        elif current_node.data < value:\n",
    "            # go towards right sub tree\n",
    "            if current_node.right is None:\n",
    "                current_node.right = Node(value)\n",
    "                current_node.right.parent = current_node\n",
    "            else:\n",
    "                self._insert(current_node.right, value)\n",
    "        else:\n",
    "            print(\"Duplicate Node\")\n",
    "    \n",
    "    def printTree(self):\n",
    "        if self.root is not None:\n",
    "            self._printTree(self.root)\n",
    "    \n",
    "    def _printTree(self, current_node):\n",
    "        if current_node is not None:\n",
    "            self._printTree(current_node.left)\n",
    "            print(current_node.data, end=\"-\")\n",
    "            self._printTree(current_node.right)\n",
    "            \n",
    "    def get_tree_height(self):\n",
    "        if self.root is None:\n",
    "            return 0\n",
    "        \n",
    "        else:\n",
    "            return self._height(self.root, -1)\n",
    "            \n",
    "    def _height(self, current_node, height):\n",
    "        if current_node is None:\n",
    "            return height\n",
    "        else:\n",
    "            left_height = self._height(current_node.left, height + 1)\n",
    "            right_height = self._height(current_node.right, height + 1)\n",
    "            return max(left_height, right_height)\n",
    "        \n",
    "    def search(self, item):\n",
    "        if self.root is not None:\n",
    "            return self._search(self.root, item)\n",
    "        \n",
    "    def _search(self, current_node, item):\n",
    "        if current_node is None:\n",
    "            return False\n",
    "        \n",
    "        if current_node.data == item:\n",
    "            return True\n",
    "        elif current_node.data > item:\n",
    "            return self._search(current_node.left, item)\n",
    "        else:\n",
    "            return self._search(current_node.right, item)\n",
    "        \n",
    "    def _find_parents(self, node, item, parents=[]):\n",
    "        if node is None:\n",
    "            return None\n",
    "        elif item == node.data:\n",
    "            parents.append(node.data)\n",
    "            return parents\n",
    "        elif item < node.data:\n",
    "            parents.append(node.data)\n",
    "            return self._find_parents(node.left, item, parents)\n",
    "        elif item > node.data:\n",
    "            parents.append(node.data)\n",
    "            return self._find_parents(node.right,item, parents)\n",
    "        \n",
    "    def lca(self, v1, v2):\n",
    "        node = self.root\n",
    "        if node is None:\n",
    "            return None\n",
    "        if v1 == v2:\n",
    "            return None\n",
    "\n",
    "        if v1 == self.root.data or v2 == self.root.data:\n",
    "            return False\n",
    "\n",
    "        v1_parents = []\n",
    "        v2_parents = []\n",
    "        v1_parents = self._find_parents(node, v1, v1_parents)\n",
    "        v2_parents = self._find_parents(node, v2, v2_parents)\n",
    "\n",
    "        print(v1_parents)\n",
    "        print(v2_parents)\n",
    "        #return v1_parents.intersect(v2_parents)\n",
    "\n",
    "        if v1_parents is not None and v2_parents is not None:\n",
    "            common = [ i for i in v1_parents if i in v2_parents ]\n",
    "            return common[-1] # take the last matching items to get lowest common ancestor\n",
    "\n",
    "        return None\n",
    "            \n",
    "def create_tree(tree, size=20, max_val=200):\n",
    "    from random import randint\n",
    "    for _ in range(size):\n",
    "        data = randint(0, size)\n",
    "        tree.insert(data)\n",
    "\n",
    "import sys        \n",
    "def validate_binary_search_tree(node, min= -sys.maxsize, max=sys.maxsize):\n",
    "    if node is None:\n",
    "        return True\n",
    "    \n",
    "    if (\n",
    "        node.data > min and\n",
    "        node.data < max and\n",
    "        validate_binary_search_tree(node.left, min, node.data) and\n",
    "        validate_binary_search_tree(node.right, node.data, max)\n",
    "    ):\n",
    "        return True\n",
    "    else:\n",
    "        return False\n",
    "        \n",
    "if __name__ == \"__main__\":\n",
    "    b = BinarySearchTree()\n",
    "    create_tree(b)\n",
    "    \n",
    "    b.printTree()\n",
    "    print(\"\")\n",
    "    print(validate_binary_search_tree(b.root))\n",
    "    \n",
    "    print(\"height: \", b.get_tree_height())\n",
    "    \n",
    "    print(\"Search \", b.search(6))\n",
    "    \n",
    "    print(b.lca(13, 3))"
   ]
  },
  {
   "cell_type": "code",
   "execution_count": null,
   "metadata": {},
   "outputs": [],
   "source": []
  },
  {
   "cell_type": "code",
   "execution_count": null,
   "metadata": {},
   "outputs": [],
   "source": []
  }
 ],
 "metadata": {
  "kernelspec": {
   "display_name": "Python 3",
   "language": "python",
   "name": "python3"
  },
  "language_info": {
   "codemirror_mode": {
    "name": "ipython",
    "version": 3
   },
   "file_extension": ".py",
   "mimetype": "text/x-python",
   "name": "python",
   "nbconvert_exporter": "python",
   "pygments_lexer": "ipython3",
   "version": "3.7.1"
  }
 },
 "nbformat": 4,
 "nbformat_minor": 2
}
